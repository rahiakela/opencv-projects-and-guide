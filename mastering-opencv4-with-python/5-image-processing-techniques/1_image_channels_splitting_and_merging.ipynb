{
  "nbformat": 4,
  "nbformat_minor": 0,
  "metadata": {
    "colab": {
      "name": "1-image-channels-splitting-and-merging.ipynb",
      "provenance": [],
      "toc_visible": true,
      "authorship_tag": "ABX9TyOJFfeOCzB0Ly9k09pGCOZE",
      "include_colab_link": true
    },
    "kernelspec": {
      "name": "python3",
      "display_name": "Python 3"
    },
    "accelerator": "GPU"
  },
  "cells": [
    {
      "cell_type": "markdown",
      "metadata": {
        "id": "view-in-github",
        "colab_type": "text"
      },
      "source": [
        "<a href=\"https://colab.research.google.com/github/rahiakela/opencv-projects-and-guide/blob/main/mastering-opencv4-with-python/5-image-processing-techniques/1_image_channels_splitting_and_merging.ipynb\" target=\"_parent\"><img src=\"https://colab.research.google.com/assets/colab-badge.svg\" alt=\"Open In Colab\"/></a>"
      ]
    },
    {
      "cell_type": "markdown",
      "metadata": {
        "id": "o_eVD0XW2UUe"
      },
      "source": [
        "## Image channels splitting and merging"
      ]
    },
    {
      "cell_type": "markdown",
      "metadata": {
        "id": "uapZVlhy2VKu"
      },
      "source": [
        "Sometimes, you have to work with specific channels on multichannel images. To do this, you have to split the multichannel image into several single-channel images. Additionally, once the processing has been done, you may want to create one multichannel image from different single-channel images. In order to both split and merge channels, you can use the `cv2.split()` and `cv2.merge()` functions, respectively. \n",
        "\n",
        "- The cv2.split() function splits the source multichannel image into several single-channel images.\n",
        "- The cv2.merge() function merges several single-channel images into a multichannel image."
      ]
    },
    {
      "cell_type": "markdown",
      "metadata": {
        "id": "8nlADkw85Lr-"
      },
      "source": [
        "## Setup"
      ]
    },
    {
      "cell_type": "code",
      "metadata": {
        "id": "CwcEei0-7ub7"
      },
      "source": [
        "import cv2\n",
        "import numpy as np\n",
        "from matplotlib import pyplot as plt\n",
        "from google.colab.patches import cv2_imshow"
      ],
      "execution_count": 1,
      "outputs": []
    },
    {
      "cell_type": "code",
      "metadata": {
        "id": "fOmqa-kY5P6f"
      },
      "source": [
        "%%shell\n",
        "\n",
        "wget https://raw.githubusercontent.com/rahiakela/opencv-projects-and-guide/main/mastering-opencv4-with-python/5-image-processing-techniques/images/color_spaces.png"
      ],
      "execution_count": null,
      "outputs": []
    },
    {
      "cell_type": "code",
      "metadata": {
        "id": "VasdYuQTSaKl"
      },
      "source": [
        "def show_with_matplotlib(color_img, title, pos):\n",
        "  \"\"\"Shows an image using matplotlib capabilities\"\"\"\n",
        "\n",
        "  # Convert BGR image to RGB\n",
        "  img_RGB = color_img[:, :, ::-1]\n",
        "\n",
        "  ax = plt.subplot(3, 6, pos)\n",
        "  plt.imshow(img_RGB)\n",
        "  plt.title(title)\n",
        "  plt.axis('off')"
      ],
      "execution_count": 3,
      "outputs": []
    },
    {
      "cell_type": "code",
      "metadata": {
        "id": "oTMphtV3pzSB",
        "outputId": "4846e88a-a6db-4e53-be5d-36ad9ad9d5dd",
        "colab": {
          "base_uri": "https://localhost:8080/",
          "height": 143
        }
      },
      "source": [
        "# Load the original image\n",
        "image = cv2.imread(\"color_spaces.png\")\n",
        "\n",
        "# create a figure() object with appropriate size and title\n",
        "plt.figure(figsize=(13, 5))\n",
        "plt.suptitle(\"Splitting and merging channels in OpenCV\", fontsize=14, fontweight=\"bold\")\n",
        "\n",
        "show_with_matplotlib(image, \"BGR - image\", 1)"
      ],
      "execution_count": 4,
      "outputs": [
        {
          "output_type": "display_data",
          "data": {
            "image/png": "[encoded data removed]",
            "text/plain": [
              "<Figure size 936x360 with 1 Axes>"
            ]
          },
          "metadata": {
            "tags": [],
            "needs_background": "light"
          }
        }
      ]
    },
    {
      "cell_type": "markdown",
      "metadata": {
        "id": "VYEd5lr67ypU"
      },
      "source": [
        "## Split the image"
      ]
    },
    {
      "cell_type": "markdown",
      "metadata": {
        "id": "pU18LNxV71ku"
      },
      "source": [
        "Using the `cv2.split()` function, if you want to get the three channels from a loaded BGR image."
      ]
    },
    {
      "cell_type": "code",
      "metadata": {
        "id": "mKwmArGCIjHp",
        "outputId": "acdddbbd-15cf-4314-de4e-ff2f6d9d5794",
        "colab": {
          "base_uri": "https://localhost:8080/",
          "height": 234
        }
      },
      "source": [
        "# Split the image into its three components (blue, green and red):\n",
        "(b, g, r) = cv2.split(image)\n",
        "\n",
        "# Show all the channels from the BGR image\n",
        "show_with_matplotlib(cv2.cvtColor(b, cv2.COLOR_GRAY2BGR), \"BGR - (B)\", 2)\n",
        "show_with_matplotlib(cv2.cvtColor(g, cv2.COLOR_GRAY2BGR), \"BGR - (G)\", 2 + 6)\n",
        "show_with_matplotlib(cv2.cvtColor(r, cv2.COLOR_GRAY2BGR), \"BGR - (R)\", 2 + 6 * 2)"
      ],
      "execution_count": 6,
      "outputs": [
        {
          "output_type": "display_data",
          "data": {
            "image/png": "[encoded data removed]",
            "text/plain": [
              "<Figure size 432x288 with 3 Axes>"
            ]
          },
          "metadata": {
            "tags": [],
            "needs_background": "light"
          }
        }
      ]
    },
    {
      "cell_type": "markdown",
      "metadata": {
        "id": "Oe3Pk1TMspDx"
      },
      "source": [
        "## Merge the image"
      ]
    },
    {
      "cell_type": "markdown",
      "metadata": {
        "id": "acSBGhVRsxM8"
      },
      "source": [
        "Using the `cv2.merge()` function, if you want to build the BGR image again from its three channels."
      ]
    },
    {
      "cell_type": "code",
      "metadata": {
        "id": "-XlO3h6aI7Xw",
        "outputId": "cdc526b5-6208-45d7-f4ad-b36a40b68cbc",
        "colab": {
          "base_uri": "https://localhost:8080/",
          "height": 81
        }
      },
      "source": [
        "# Merge the three channels again to build a BGR image\n",
        "image_copy = cv2.merge((b, g, r))\n",
        "\n",
        "show_with_matplotlib(image_copy, \"BGR - image (copy)\", 1 + 6)"
      ],
      "execution_count": 7,
      "outputs": [
        {
          "output_type": "display_data",
          "data": {
            "image/png": "[encoded data removed]",
            "text/plain": [
              "<Figure size 432x288 with 1 Axes>"
            ]
          },
          "metadata": {
            "tags": [],
            "needs_background": "light"
          }
        }
      ]
    },
    {
      "cell_type": "markdown",
      "metadata": {
        "id": "0XwXPRU_CiMp"
      },
      "source": [
        "You should remember that cv2.split() is a time-consuming operation, and so you\n",
        "should only use it if strictly necessary; otherwise, you can use the NumPy functionality to work with specific channels. \n",
        "\n",
        "For example, if you want to get the blue channel of the image,\n",
        "you can do the following:"
      ]
    },
    {
      "cell_type": "code",
      "metadata": {
        "id": "4hgvrU7qFbcu",
        "outputId": "158dffe1-0d7f-45b2-e85f-4c68e11fb353",
        "colab": {
          "base_uri": "https://localhost:8080/",
          "height": 234
        }
      },
      "source": [
        "b_copy = image[:, :, 0]\n",
        "\n",
        "# We make a copy of the loaded image\n",
        "image_without_blue = image.copy()\n",
        "# From the BGR image, we \"eliminate\" (set to 0) the blue component (channel 0)\n",
        "image_without_blue[:, :, 0] = 0\n",
        "\n",
        "# From the BGR image, we \"eliminate\" (set to 0) the green component (channel 1)\n",
        "image_without_green = image.copy()\n",
        "image_without_green[:, :, 1] = 0\n",
        "\n",
        "# From the BGR image, we \"eliminate\" (set to 0) the red component (channel 2)\n",
        "image_without_red = image.copy()\n",
        "image_without_red[:, :, 2] = 0\n",
        "\n",
        "show_with_matplotlib(image_without_blue, \"BGR without B\", 3)\n",
        "show_with_matplotlib(image_without_green, \"BGR without G\", 3 + 6)\n",
        "show_with_matplotlib(image_without_red, \"BGR without R\", 3 + 6 * 2)"
      ],
      "execution_count": 8,
      "outputs": [
        {
          "output_type": "display_data",
          "data": {
            "image/png": "[encoded data removed]",
            "text/plain": [
              "<Figure size 432x288 with 3 Axes>"
            ]
          },
          "metadata": {
            "tags": [],
            "needs_background": "light"
          }
        }
      ]
    },
    {
      "cell_type": "code",
      "metadata": {
        "id": "P1tiEBXDFwsl",
        "outputId": "2687ee59-c571-4d72-840e-cadc4994ecf4",
        "colab": {
          "base_uri": "https://localhost:8080/",
          "height": 234
        }
      },
      "source": [
        "# Split the 'image_without_blue' image into its three components (blue, green and red)\n",
        "(b, g, r) = cv2.split(image_without_blue)\n",
        "\n",
        "show_with_matplotlib(cv2.cvtColor(b, cv2.COLOR_GRAY2BGR), \"BGR - (B)\", 2)\n",
        "show_with_matplotlib(cv2.cvtColor(g, cv2.COLOR_GRAY2BGR), \"BGR - (G)\", 2 + 6)\n",
        "show_with_matplotlib(cv2.cvtColor(r, cv2.COLOR_GRAY2BGR), \"BGR - (R)\", 2 + 6 * 2)"
      ],
      "execution_count": 9,
      "outputs": [
        {
          "output_type": "display_data",
          "data": {
            "image/png": "[encoded data removed]",
            "text/plain": [
              "<Figure size 432x288 with 3 Axes>"
            ]
          },
          "metadata": {
            "tags": [],
            "needs_background": "light"
          }
        }
      ]
    },
    {
      "cell_type": "code",
      "metadata": {
        "id": "hOnrRR7qF9ga",
        "outputId": "a1e6de1d-b7fe-40fc-98a9-765cb1ca6584",
        "colab": {
          "base_uri": "https://localhost:8080/",
          "height": 234
        }
      },
      "source": [
        "# Split the 'image_without_green' image into its three components (blue, green and red)\n",
        "(b, g, r) = cv2.split(image_without_green)\n",
        "\n",
        "show_with_matplotlib(cv2.cvtColor(b, cv2.COLOR_GRAY2BGR), \"BGR - (B)\", 5)\n",
        "show_with_matplotlib(cv2.cvtColor(g, cv2.COLOR_GRAY2BGR), \"BGR - (G)\", 5 + 6)\n",
        "show_with_matplotlib(cv2.cvtColor(r, cv2.COLOR_GRAY2BGR), \"BGR - (R)\", 5 + 6 * 2)"
      ],
      "execution_count": 10,
      "outputs": [
        {
          "output_type": "display_data",
          "data": {
            "image/png": "[encoded data removed]",
            "text/plain": [
              "<Figure size 432x288 with 3 Axes>"
            ]
          },
          "metadata": {
            "tags": [],
            "needs_background": "light"
          }
        }
      ]
    },
    {
      "cell_type": "code",
      "metadata": {
        "id": "gk4HCet4GLMm",
        "outputId": "5dde01ef-ac90-4405-d51b-0eac62afae90",
        "colab": {
          "base_uri": "https://localhost:8080/",
          "height": 234
        }
      },
      "source": [
        "# Split the 'image_without_red' image into its three components (blue, green and red)\n",
        "(b, g, r) = cv2.split(image_without_red)\n",
        "\n",
        "show_with_matplotlib(cv2.cvtColor(b, cv2.COLOR_GRAY2BGR), \"BGR - (B)\", 6)\n",
        "show_with_matplotlib(cv2.cvtColor(g, cv2.COLOR_GRAY2BGR), \"BGR - (G)\", 6 + 6)\n",
        "show_with_matplotlib(cv2.cvtColor(r, cv2.COLOR_GRAY2BGR), \"BGR - (R)\", 6 + 6 * 2)"
      ],
      "execution_count": 11,
      "outputs": [
        {
          "output_type": "display_data",
          "data": {
            "image/png": "[encoded data removed]",
            "text/plain": [
              "<Figure size 432x288 with 3 Axes>"
            ]
          },
          "metadata": {
            "tags": [],
            "needs_background": "light"
          }
        }
      ]
    }
  ]
}