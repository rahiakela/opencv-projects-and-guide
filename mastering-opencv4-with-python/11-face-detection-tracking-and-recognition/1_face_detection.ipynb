{
  "nbformat": 4,
  "nbformat_minor": 0,
  "metadata": {
    "colab": {
      "name": "1-face-detection.ipynb",
      "provenance": [],
      "authorship_tag": "ABX9TyOyhqnEJZCemKbtgDR49tEg",
      "include_colab_link": true
    },
    "kernelspec": {
      "name": "python3",
      "display_name": "Python 3"
    }
  },
  "cells": [
    {
      "cell_type": "markdown",
      "metadata": {
        "id": "view-in-github",
        "colab_type": "text"
      },
      "source": [
        "<a href=\"https://colab.research.google.com/github/rahiakela/opencv-projects-and-guide/blob/main/mastering-opencv4-with-python/11-face-detection-tracking-and-recognition/1_face_detection.ipynb\" target=\"_parent\"><img src=\"https://colab.research.google.com/assets/colab-badge.svg\" alt=\"Open In Colab\"/></a>"
      ]
    },
    {
      "cell_type": "markdown",
      "metadata": {
        "id": "RRhPX6S-Kmmz"
      },
      "source": [
        "# Face Detection"
      ]
    },
    {
      "cell_type": "markdown",
      "metadata": {
        "id": "abzrsk6ALkkx"
      },
      "source": [
        "Face processing is a hot topic in artificial intelligence because a lot of information can be automatically extracted from faces using computer vision algorithms. \r\n",
        "\r\n",
        "The face plays an important role in visual communication because a great deal of non-verbal information, such as identity, intent, and emotion, can be extracted from human faces. \r\n",
        "\r\n",
        "Face processing is a really interesting topic for computer vision learners because it touches on different areas of expertise, such as object detection, image processing, and landmark detection or object tracking.\r\n",
        "\r\n",
        "In this notebook, you will be introduced to the main topics related to face processing using state-of-the-art algorithms and techniques in order to achieve impressive results.\r\n",
        "\r\n",
        "We will cover the following topics:\r\n",
        "\r\n",
        "- Face processing introduction\r\n",
        "- Face detection\r\n",
        "- Detecting facial landmarks\r\n",
        "- Face tracking\r\n",
        "- Face recognition"
      ]
    },
    {
      "cell_type": "markdown",
      "metadata": {
        "id": "K-myR8vTMQ-h"
      },
      "source": [
        "## Setup"
      ]
    },
    {
      "cell_type": "code",
      "metadata": {
        "id": "2ML9L1xVKm7t"
      },
      "source": [
        "%%shell\r\n",
        "\r\n",
        "pip install dlib\r\n",
        "pip install face_recognition\r\n",
        "pip install cvlib"
      ],
      "execution_count": null,
      "outputs": []
    },
    {
      "cell_type": "code",
      "metadata": {
        "id": "XT6og5x1ULzY"
      },
      "source": [
        "import cv2\r\n",
        "import numpy as np\r\n",
        "from matplotlib import pyplot as plt"
      ],
      "execution_count": 2,
      "outputs": []
    },
    {
      "cell_type": "code",
      "metadata": {
        "id": "cSWvPJGoUhN6"
      },
      "source": [
        "def show_img_with_matplotlib(color_img, title, pos):\r\n",
        "    \"\"\"Shows an image using matplotlib capabilities\"\"\"\r\n",
        "\r\n",
        "    img_RGB = color_img[:, :, ::-1]\r\n",
        "\r\n",
        "    ax = plt.subplot(2, 2, pos)\r\n",
        "    plt.imshow(img_RGB)\r\n",
        "    plt.title(title)\r\n",
        "    plt.axis('off')\r\n",
        "\r\n",
        "\r\n",
        "def show_detection(image, faces):\r\n",
        "    \"\"\"Draws a rectangle over each detected face\"\"\"\r\n",
        "\r\n",
        "    for (x, y, w, h) in faces:\r\n",
        "        cv2.rectangle(image, (x, y), (x + w, y + h), (255, 0, 0), 5)\r\n",
        "    return image"
      ],
      "execution_count": 3,
      "outputs": []
    },
    {
      "cell_type": "code",
      "metadata": {
        "id": "yRX5ssv-UuJn"
      },
      "source": [
        "%%shell\r\n",
        "\r\n",
        "# Load image and convert to grayscale\r\n",
        "wget Load image and convert to grayscale"
      ],
      "execution_count": null,
      "outputs": []
    },
    {
      "cell_type": "markdown",
      "metadata": {
        "id": "CI-yQS-WMWX8"
      },
      "source": [
        "## Face processing introduction"
      ]
    },
    {
      "cell_type": "markdown",
      "metadata": {
        "id": "0GIi2DMGMXNE"
      },
      "source": [
        "In order to introduce this notebook, we will be using different approaches throughout all the sections to see the different possibilities you have at hand to solve a concrete face processing task, and it can be helpful to have a high-level overview of all of these alternatives.\r\n",
        "\r\n",
        "<img src='https://github.com/rahiakela/img-repo/blob/master/object-detection-images/face-processing.png?raw=1' width='800'/>\r\n",
        "\r\n",
        "As you can see, four main points are going to be tackled here:\r\n",
        "\r\n",
        "- **Face detection** is a specific case of object detection, where the task is to find both the locations and sizes of all the faces in an image.\r\n",
        "- **Facial landmarks detection** is a specific case of landmarks detection, where the task is to locate the main landmarks in a face.\r\n",
        "- **Face tracking** is a specific case of object tracking, where the task is to find both the locations and sizes of all the moving faces in a video by taking into account the extra information that can be extracted in consecutive frames of the video.\r\n",
        "- **Face recognition** is a specific case of object recognition, where a person is identified or verified from an image or video using the information extracted\r\n",
        "from the face:\r\n",
        "  - **Face identification (1:N)**: The task is to find the closest match from\r\n",
        "an unknown person in a collection of known faces.\r\n",
        "  - **Face verification (1:1)**: The task is to check whether the person is\r\n",
        "who they claim to be."
      ]
    },
    {
      "cell_type": "markdown",
      "metadata": {
        "id": "CDpXW6w_O7EK"
      },
      "source": [
        "## Face detection"
      ]
    },
    {
      "cell_type": "markdown",
      "metadata": {
        "id": "IONPfeCMO_Ai"
      },
      "source": [
        "Face detection, which can be defined as the task of determining the location and size of faces in digital images, is usually the first key step when building face processing applications like:-\r\n",
        "\r\n",
        "- facial expression recognition, \r\n",
        "- drowsiness detection, \r\n",
        "- gender classification, \r\n",
        "- face recognition, \r\n",
        "- head-pose estimation, or \r\n",
        "- human-computer interaction\r\n",
        "\r\n",
        "This is because the aforementioned applications requires as an input the location and size of the detected faces. Therefore, automatic face detection plays a critical role, and is one of the most studied topics in the artificial intelligence community.\r\n",
        "\r\n",
        "Face detection seems like an effortless task for a human, but it is a very challenging task for computers because many problems/challenges are usually involved.\r\n",
        "\r\n",
        "In this section, we will see some of the most popular face detection techniques that the OpenCV library and the dlib and face_processing packages provide."
      ]
    },
    {
      "cell_type": "markdown",
      "metadata": {
        "id": "QbUDG3UUSMx1"
      },
      "source": [
        "## Face detection with OpenCV"
      ]
    },
    {
      "cell_type": "markdown",
      "metadata": {
        "id": "ckl75bTOSNyg"
      },
      "source": [
        "OpenCV provides two approaches for face detection:\r\n",
        "\r\n",
        "- Haar cascade based face detectors\r\n",
        "- Deep learning-based face detectors\r\n",
        "\r\n",
        "To performs face detection using haar featurebased cascade classifiers. In this sense, OpenCV provides four cascade classifiers to use for (frontal) face detection:\r\n",
        "\r\n",
        "- `haarcascade_frontalface_alt.xml` (FA1): 22 stages and 20 x 20 haar\r\n",
        "features\r\n",
        "- `haarcascade_frontalface_alt2.xml` (FA2): 20 stages and 20 x 20 haar\r\n",
        "features\r\n",
        "- `haarcascade_frontalface_alt_tree.xml` (FAT): 47 stages and 20 x 20 haar\r\n",
        "features\r\n",
        "- `haarcascade_frontalface_default.xml` (FD): 25 stages and 24 x 24 haar\r\n",
        "features\r\n",
        "\r\n"
      ]
    },
    {
      "cell_type": "code",
      "metadata": {
        "id": "HXQK_Dp3KyxM"
      },
      "source": [
        ""
      ],
      "execution_count": null,
      "outputs": []
    }
  ]
}